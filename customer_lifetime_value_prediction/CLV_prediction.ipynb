{
 "cells": [
  {
   "cell_type": "code",
   "execution_count": 1,
   "metadata": {},
   "outputs": [],
   "source": [
    "import pandas as pd\n",
    "import numpy as np\n",
    "import matplotlib.pyplot as plt"
   ]
  },
  {
   "cell_type": "code",
   "execution_count": 2,
   "metadata": {},
   "outputs": [],
   "source": [
    "# load data\n",
    "transaction_data = pd.read_csv('data-science-exercise-data.csv')"
   ]
  },
  {
   "cell_type": "code",
   "execution_count": 3,
   "metadata": {},
   "outputs": [
    {
     "data": {
      "text/html": [
       "<div>\n",
       "<style scoped>\n",
       "    .dataframe tbody tr th:only-of-type {\n",
       "        vertical-align: middle;\n",
       "    }\n",
       "\n",
       "    .dataframe tbody tr th {\n",
       "        vertical-align: top;\n",
       "    }\n",
       "\n",
       "    .dataframe thead th {\n",
       "        text-align: right;\n",
       "    }\n",
       "</style>\n",
       "<table border=\"1\" class=\"dataframe\">\n",
       "  <thead>\n",
       "    <tr style=\"text-align: right;\">\n",
       "      <th></th>\n",
       "      <th>CustomerID</th>\n",
       "      <th>Timestamp</th>\n",
       "      <th>PurchaseValue</th>\n",
       "    </tr>\n",
       "  </thead>\n",
       "  <tbody>\n",
       "    <tr>\n",
       "      <th>0</th>\n",
       "      <td>5611860a94204a4078659f1667372cc4</td>\n",
       "      <td>2017-02-09T18:31:00Z</td>\n",
       "      <td>4.72</td>\n",
       "    </tr>\n",
       "    <tr>\n",
       "      <th>1</th>\n",
       "      <td>07b260307114f9cffc5601eb7ad4b565</td>\n",
       "      <td>2017-06-28T19:26:00Z</td>\n",
       "      <td>5.33</td>\n",
       "    </tr>\n",
       "    <tr>\n",
       "      <th>2</th>\n",
       "      <td>1ede55062d0d68c70fc4d355a5328d11</td>\n",
       "      <td>2017-07-28T17:47:00Z</td>\n",
       "      <td>5.35</td>\n",
       "    </tr>\n",
       "    <tr>\n",
       "      <th>3</th>\n",
       "      <td>42b8e86e8da5e35628bcdc146c358665</td>\n",
       "      <td>2016-12-17T22:59:00Z</td>\n",
       "      <td>6.00</td>\n",
       "    </tr>\n",
       "    <tr>\n",
       "      <th>4</th>\n",
       "      <td>1047f2787b7efc759d7ffcbc40ef7e19</td>\n",
       "      <td>2016-12-05T17:23:00Z</td>\n",
       "      <td>6.28</td>\n",
       "    </tr>\n",
       "  </tbody>\n",
       "</table>\n",
       "</div>"
      ],
      "text/plain": [
       "                         CustomerID             Timestamp  PurchaseValue\n",
       "0  5611860a94204a4078659f1667372cc4  2017-02-09T18:31:00Z           4.72\n",
       "1  07b260307114f9cffc5601eb7ad4b565  2017-06-28T19:26:00Z           5.33\n",
       "2  1ede55062d0d68c70fc4d355a5328d11  2017-07-28T17:47:00Z           5.35\n",
       "3  42b8e86e8da5e35628bcdc146c358665  2016-12-17T22:59:00Z           6.00\n",
       "4  1047f2787b7efc759d7ffcbc40ef7e19  2016-12-05T17:23:00Z           6.28"
      ]
     },
     "execution_count": 3,
     "metadata": {},
     "output_type": "execute_result"
    }
   ],
   "source": [
    "transaction_data.head()"
   ]
  },
  {
   "cell_type": "code",
   "execution_count": 4,
   "metadata": {},
   "outputs": [
    {
     "name": "stderr",
     "output_type": "stream",
     "text": [
      "C:\\Users\\Ruopei\\Anaconda3\\lib\\site-packages\\lifetimes\\utils.py:265: UserWarning: Converting to Period representation will drop timezone information.\n",
      "  pd.to_datetime(transactions[datetime_col].max(), format=datetime_format).to_period(freq).to_timestamp()\n",
      "C:\\Users\\Ruopei\\Anaconda3\\lib\\site-packages\\pandas\\core\\arrays\\datetimes.py:1172: UserWarning: Converting to PeriodArray/Index representation will drop timezone information.\n",
      "  \"will drop timezone information.\", UserWarning)\n"
     ]
    }
   ],
   "source": [
    "# transform transaction data to summary data\n",
    "transaction_data['Timestamp'] = transaction_data['Timestamp'].apply(pd.to_datetime)\n",
    "from lifetimes.utils import summary_data_from_transaction_data\n",
    "summary_with_money_value = summary_data_from_transaction_data(\n",
    "    transaction_data, 'CustomerID', 'Timestamp', monetary_value_col = 'PurchaseValue')"
   ]
  },
  {
   "cell_type": "code",
   "execution_count": 5,
   "metadata": {},
   "outputs": [
    {
     "data": {
      "text/html": [
       "<div>\n",
       "<style scoped>\n",
       "    .dataframe tbody tr th:only-of-type {\n",
       "        vertical-align: middle;\n",
       "    }\n",
       "\n",
       "    .dataframe tbody tr th {\n",
       "        vertical-align: top;\n",
       "    }\n",
       "\n",
       "    .dataframe thead th {\n",
       "        text-align: right;\n",
       "    }\n",
       "</style>\n",
       "<table border=\"1\" class=\"dataframe\">\n",
       "  <thead>\n",
       "    <tr style=\"text-align: right;\">\n",
       "      <th></th>\n",
       "      <th>frequency</th>\n",
       "      <th>recency</th>\n",
       "      <th>T</th>\n",
       "      <th>monetary_value</th>\n",
       "    </tr>\n",
       "    <tr>\n",
       "      <th>CustomerID</th>\n",
       "      <th></th>\n",
       "      <th></th>\n",
       "      <th></th>\n",
       "      <th></th>\n",
       "    </tr>\n",
       "  </thead>\n",
       "  <tbody>\n",
       "    <tr>\n",
       "      <th>0001117ff1305c1fe840697166e61564</th>\n",
       "      <td>1.0</td>\n",
       "      <td>11.0</td>\n",
       "      <td>344.0</td>\n",
       "      <td>87.280</td>\n",
       "    </tr>\n",
       "    <tr>\n",
       "      <th>00028502859fd7e111d88c20456b59d5</th>\n",
       "      <td>0.0</td>\n",
       "      <td>0.0</td>\n",
       "      <td>342.0</td>\n",
       "      <td>0.000</td>\n",
       "    </tr>\n",
       "    <tr>\n",
       "      <th>000306d200fd6e9b03de48d15348f5c2</th>\n",
       "      <td>0.0</td>\n",
       "      <td>0.0</td>\n",
       "      <td>33.0</td>\n",
       "      <td>0.000</td>\n",
       "    </tr>\n",
       "    <tr>\n",
       "      <th>0003f3458a6e7b495a975c2d9ddda559</th>\n",
       "      <td>2.0</td>\n",
       "      <td>285.0</td>\n",
       "      <td>343.0</td>\n",
       "      <td>88.065</td>\n",
       "    </tr>\n",
       "    <tr>\n",
       "      <th>000784b838b807ad589d4bc69c0c562f</th>\n",
       "      <td>0.0</td>\n",
       "      <td>0.0</td>\n",
       "      <td>210.0</td>\n",
       "      <td>0.000</td>\n",
       "    </tr>\n",
       "  </tbody>\n",
       "</table>\n",
       "</div>"
      ],
      "text/plain": [
       "                                  frequency  recency      T  monetary_value\n",
       "CustomerID                                                                 \n",
       "0001117ff1305c1fe840697166e61564        1.0     11.0  344.0          87.280\n",
       "00028502859fd7e111d88c20456b59d5        0.0      0.0  342.0           0.000\n",
       "000306d200fd6e9b03de48d15348f5c2        0.0      0.0   33.0           0.000\n",
       "0003f3458a6e7b495a975c2d9ddda559        2.0    285.0  343.0          88.065\n",
       "000784b838b807ad589d4bc69c0c562f        0.0      0.0  210.0           0.000"
      ]
     },
     "execution_count": 5,
     "metadata": {},
     "output_type": "execute_result"
    }
   ],
   "source": [
    "summary_with_money_value.head()"
   ]
  },
  {
   "cell_type": "markdown",
   "metadata": {},
   "source": [
    "### 1. Implement the modified BG model from the lifetimes package using the data we provide"
   ]
  },
  {
   "cell_type": "code",
   "execution_count": 6,
   "metadata": {},
   "outputs": [
    {
     "name": "stdout",
     "output_type": "stream",
     "text": [
      "<lifetimes.BetaGeoFitter: fitted with 23708 subjects, a: 0.57, alpha: 60.57, b: 2.95, r: 0.41>\n"
     ]
    }
   ],
   "source": [
    "from lifetimes import BetaGeoFitter\n",
    "\n",
    "bgf = BetaGeoFitter(penalizer_coef=0.0)\n",
    "bgf.fit(summary_with_money_value['frequency'], \n",
    "        summary_with_money_value['recency'], \n",
    "        summary_with_money_value['T'])\n",
    "print(bgf)"
   ]
  },
  {
   "cell_type": "code",
   "execution_count": 7,
   "metadata": {},
   "outputs": [],
   "source": [
    "# Predict expected number of purchases in the next year (365 days)\n",
    "t = 365\n",
    "summary_with_money_value['predicted_purchases'] = bgf.conditional_expected_number_of_purchases_up_to_time(t, \n",
    "                                                    summary_with_money_value['frequency'],\n",
    "                                                    summary_with_money_value['recency'], \n",
    "                                                    summary_with_money_value['T'])"
   ]
  },
  {
   "cell_type": "markdown",
   "metadata": {},
   "source": [
    "### 2. List the 100 customers predicted to make the most purchases over the next 12 months (365 days)"
   ]
  },
  {
   "cell_type": "code",
   "execution_count": 8,
   "metadata": {},
   "outputs": [
    {
     "data": {
      "text/html": [
       "<div>\n",
       "<style scoped>\n",
       "    .dataframe tbody tr th:only-of-type {\n",
       "        vertical-align: middle;\n",
       "    }\n",
       "\n",
       "    .dataframe tbody tr th {\n",
       "        vertical-align: top;\n",
       "    }\n",
       "\n",
       "    .dataframe thead th {\n",
       "        text-align: right;\n",
       "    }\n",
       "</style>\n",
       "<table border=\"1\" class=\"dataframe\">\n",
       "  <thead>\n",
       "    <tr style=\"text-align: right;\">\n",
       "      <th></th>\n",
       "      <th>frequency</th>\n",
       "      <th>recency</th>\n",
       "      <th>T</th>\n",
       "      <th>monetary_value</th>\n",
       "      <th>predicted_purchases</th>\n",
       "    </tr>\n",
       "    <tr>\n",
       "      <th>CustomerID</th>\n",
       "      <th></th>\n",
       "      <th></th>\n",
       "      <th></th>\n",
       "      <th></th>\n",
       "      <th></th>\n",
       "    </tr>\n",
       "  </thead>\n",
       "  <tbody>\n",
       "    <tr>\n",
       "      <th>a5fadc51b1ae844ad9a70ad3cfa46a64</th>\n",
       "      <td>95.0</td>\n",
       "      <td>371.0</td>\n",
       "      <td>371.0</td>\n",
       "      <td>433.962632</td>\n",
       "      <td>66.715396</td>\n",
       "    </tr>\n",
       "    <tr>\n",
       "      <th>48a503edbaded96a3be27deee11967a1</th>\n",
       "      <td>46.0</td>\n",
       "      <td>363.0</td>\n",
       "      <td>371.0</td>\n",
       "      <td>220.476739</td>\n",
       "      <td>31.845175</td>\n",
       "    </tr>\n",
       "    <tr>\n",
       "      <th>9f447f9415a380ac2eeee7df49c6ee7e</th>\n",
       "      <td>23.0</td>\n",
       "      <td>163.0</td>\n",
       "      <td>166.0</td>\n",
       "      <td>110.196522</td>\n",
       "      <td>27.442656</td>\n",
       "    </tr>\n",
       "    <tr>\n",
       "      <th>5f01420f0edda6555df5ce1cc62b986c</th>\n",
       "      <td>39.0</td>\n",
       "      <td>350.0</td>\n",
       "      <td>370.0</td>\n",
       "      <td>299.122821</td>\n",
       "      <td>25.572084</td>\n",
       "    </tr>\n",
       "    <tr>\n",
       "      <th>8d2ce54737dd404d20cadf1405d46dc8</th>\n",
       "      <td>33.0</td>\n",
       "      <td>360.0</td>\n",
       "      <td>362.0</td>\n",
       "      <td>123.195152</td>\n",
       "      <td>23.607814</td>\n",
       "    </tr>\n",
       "    <tr>\n",
       "      <th>3b11478939967e896ae2619615650f97</th>\n",
       "      <td>20.0</td>\n",
       "      <td>190.0</td>\n",
       "      <td>194.0</td>\n",
       "      <td>58.866000</td>\n",
       "      <td>21.746411</td>\n",
       "    </tr>\n",
       "    <tr>\n",
       "      <th>a62a17bb46864da2c6da691d838971b3</th>\n",
       "      <td>30.0</td>\n",
       "      <td>366.0</td>\n",
       "      <td>366.0</td>\n",
       "      <td>307.961000</td>\n",
       "      <td>21.359421</td>\n",
       "    </tr>\n",
       "    <tr>\n",
       "      <th>2ad9a83ee23110d8c2f4c01600b94f20</th>\n",
       "      <td>29.0</td>\n",
       "      <td>357.0</td>\n",
       "      <td>364.0</td>\n",
       "      <td>146.420690</td>\n",
       "      <td>20.500784</td>\n",
       "    </tr>\n",
       "    <tr>\n",
       "      <th>75fda9ea22086bf3814ff8c3f53de8ca</th>\n",
       "      <td>28.0</td>\n",
       "      <td>348.0</td>\n",
       "      <td>355.0</td>\n",
       "      <td>196.032857</td>\n",
       "      <td>20.160264</td>\n",
       "    </tr>\n",
       "    <tr>\n",
       "      <th>30aa99d3357244cf38ca04eadef1473a</th>\n",
       "      <td>18.0</td>\n",
       "      <td>183.0</td>\n",
       "      <td>189.0</td>\n",
       "      <td>345.937222</td>\n",
       "      <td>19.799037</td>\n",
       "    </tr>\n",
       "    <tr>\n",
       "      <th>a719d6643a7832535de9aded2f467825</th>\n",
       "      <td>26.0</td>\n",
       "      <td>360.0</td>\n",
       "      <td>368.0</td>\n",
       "      <td>398.917692</td>\n",
       "      <td>18.218952</td>\n",
       "    </tr>\n",
       "    <tr>\n",
       "      <th>5ac5ed64cd99ed2a8403b7a927e644ef</th>\n",
       "      <td>23.0</td>\n",
       "      <td>222.0</td>\n",
       "      <td>250.0</td>\n",
       "      <td>627.439565</td>\n",
       "      <td>18.133983</td>\n",
       "    </tr>\n",
       "    <tr>\n",
       "      <th>ca2202a96c2de6ca6b8a37a4a73fa730</th>\n",
       "      <td>7.0</td>\n",
       "      <td>12.0</td>\n",
       "      <td>20.0</td>\n",
       "      <td>1399.634286</td>\n",
       "      <td>17.685990</td>\n",
       "    </tr>\n",
       "    <tr>\n",
       "      <th>a1c8d419a97af1f7152e21c0dddfcbce</th>\n",
       "      <td>24.0</td>\n",
       "      <td>369.0</td>\n",
       "      <td>370.0</td>\n",
       "      <td>143.857500</td>\n",
       "      <td>16.954758</td>\n",
       "    </tr>\n",
       "    <tr>\n",
       "      <th>cdf642859ae8d9a1e489c3a655cba827</th>\n",
       "      <td>23.0</td>\n",
       "      <td>343.0</td>\n",
       "      <td>350.0</td>\n",
       "      <td>102.718696</td>\n",
       "      <td>16.764294</td>\n",
       "    </tr>\n",
       "    <tr>\n",
       "      <th>ed2b4332b3ca253cfbb0ffb54d3f5ae0</th>\n",
       "      <td>23.0</td>\n",
       "      <td>337.0</td>\n",
       "      <td>348.0</td>\n",
       "      <td>434.835217</td>\n",
       "      <td>16.687202</td>\n",
       "    </tr>\n",
       "    <tr>\n",
       "      <th>880474a82e33389ae7f377b2ea35bbdd</th>\n",
       "      <td>23.0</td>\n",
       "      <td>364.0</td>\n",
       "      <td>371.0</td>\n",
       "      <td>297.743478</td>\n",
       "      <td>16.073954</td>\n",
       "    </tr>\n",
       "    <tr>\n",
       "      <th>f6a4f156c817ecb376d678f2aafdc570</th>\n",
       "      <td>20.0</td>\n",
       "      <td>309.0</td>\n",
       "      <td>316.0</td>\n",
       "      <td>151.828500</td>\n",
       "      <td>15.697427</td>\n",
       "    </tr>\n",
       "    <tr>\n",
       "      <th>16134915d822fe17588ae585935e1e81</th>\n",
       "      <td>22.0</td>\n",
       "      <td>356.0</td>\n",
       "      <td>362.0</td>\n",
       "      <td>207.839091</td>\n",
       "      <td>15.686363</td>\n",
       "    </tr>\n",
       "    <tr>\n",
       "      <th>e675875db3648ab4dbbd52768296425c</th>\n",
       "      <td>12.0</td>\n",
       "      <td>145.0</td>\n",
       "      <td>152.0</td>\n",
       "      <td>193.650833</td>\n",
       "      <td>15.061660</td>\n",
       "    </tr>\n",
       "    <tr>\n",
       "      <th>742d5a52d4df7cb14246d7f390de5d8a</th>\n",
       "      <td>21.0</td>\n",
       "      <td>340.0</td>\n",
       "      <td>356.0</td>\n",
       "      <td>505.611905</td>\n",
       "      <td>14.824970</td>\n",
       "    </tr>\n",
       "    <tr>\n",
       "      <th>663b3df249f614305792ec7bf1dead30</th>\n",
       "      <td>20.0</td>\n",
       "      <td>347.0</td>\n",
       "      <td>352.0</td>\n",
       "      <td>165.078000</td>\n",
       "      <td>14.591371</td>\n",
       "    </tr>\n",
       "    <tr>\n",
       "      <th>ca5cc4f526fcff10e85ce2685999e2c1</th>\n",
       "      <td>9.0</td>\n",
       "      <td>84.0</td>\n",
       "      <td>92.0</td>\n",
       "      <td>143.516667</td>\n",
       "      <td>14.581592</td>\n",
       "    </tr>\n",
       "    <tr>\n",
       "      <th>bb5d927e9f1aefa4db1881579e055a3e</th>\n",
       "      <td>20.0</td>\n",
       "      <td>348.0</td>\n",
       "      <td>355.0</td>\n",
       "      <td>132.566000</td>\n",
       "      <td>14.453281</td>\n",
       "    </tr>\n",
       "    <tr>\n",
       "      <th>61d2370d7ccfe63adf6ab388d7415dc2</th>\n",
       "      <td>19.0</td>\n",
       "      <td>340.0</td>\n",
       "      <td>342.0</td>\n",
       "      <td>182.188421</td>\n",
       "      <td>14.225532</td>\n",
       "    </tr>\n",
       "    <tr>\n",
       "      <th>9cb19c3fc7311aae01cf16571b528001</th>\n",
       "      <td>17.0</td>\n",
       "      <td>263.0</td>\n",
       "      <td>279.0</td>\n",
       "      <td>500.589412</td>\n",
       "      <td>14.209909</td>\n",
       "    </tr>\n",
       "    <tr>\n",
       "      <th>4f672b7c5d7a4214b08ec6906163c980</th>\n",
       "      <td>14.0</td>\n",
       "      <td>208.0</td>\n",
       "      <td>216.0</td>\n",
       "      <td>392.259286</td>\n",
       "      <td>14.191349</td>\n",
       "    </tr>\n",
       "    <tr>\n",
       "      <th>2b75f007b50d6b21e1501f47dc8d632b</th>\n",
       "      <td>19.0</td>\n",
       "      <td>355.0</td>\n",
       "      <td>355.0</td>\n",
       "      <td>453.049474</td>\n",
       "      <td>13.881519</td>\n",
       "    </tr>\n",
       "    <tr>\n",
       "      <th>cd1751286a561d51655ee47246b3019d</th>\n",
       "      <td>19.0</td>\n",
       "      <td>351.0</td>\n",
       "      <td>355.0</td>\n",
       "      <td>163.781579</td>\n",
       "      <td>13.805947</td>\n",
       "    </tr>\n",
       "    <tr>\n",
       "      <th>7108b2bb5964a79ee1e6c8a9acde8107</th>\n",
       "      <td>16.0</td>\n",
       "      <td>272.0</td>\n",
       "      <td>279.0</td>\n",
       "      <td>190.354375</td>\n",
       "      <td>13.727760</td>\n",
       "    </tr>\n",
       "    <tr>\n",
       "      <th>...</th>\n",
       "      <td>...</td>\n",
       "      <td>...</td>\n",
       "      <td>...</td>\n",
       "      <td>...</td>\n",
       "      <td>...</td>\n",
       "    </tr>\n",
       "    <tr>\n",
       "      <th>22101eef0531a7087dc997fac3d6a7c5</th>\n",
       "      <td>12.0</td>\n",
       "      <td>260.0</td>\n",
       "      <td>267.0</td>\n",
       "      <td>286.163333</td>\n",
       "      <td>10.666687</td>\n",
       "    </tr>\n",
       "    <tr>\n",
       "      <th>cff00f3b67e59b8c9a89972c6cbdabf5</th>\n",
       "      <td>15.0</td>\n",
       "      <td>354.0</td>\n",
       "      <td>365.0</td>\n",
       "      <td>326.335333</td>\n",
       "      <td>10.594416</td>\n",
       "    </tr>\n",
       "    <tr>\n",
       "      <th>c505f6e87ff9782ba4ca791ae088f329</th>\n",
       "      <td>14.0</td>\n",
       "      <td>330.0</td>\n",
       "      <td>337.0</td>\n",
       "      <td>78.340714</td>\n",
       "      <td>10.555828</td>\n",
       "    </tr>\n",
       "    <tr>\n",
       "      <th>1200a4df001756f0fc97e0142c069442</th>\n",
       "      <td>11.0</td>\n",
       "      <td>231.0</td>\n",
       "      <td>239.0</td>\n",
       "      <td>495.582727</td>\n",
       "      <td>10.520899</td>\n",
       "    </tr>\n",
       "    <tr>\n",
       "      <th>14f57af72e3d2a16b7b4c088cbe3196f</th>\n",
       "      <td>14.0</td>\n",
       "      <td>334.0</td>\n",
       "      <td>341.0</td>\n",
       "      <td>244.337143</td>\n",
       "      <td>10.466994</td>\n",
       "    </tr>\n",
       "    <tr>\n",
       "      <th>13cb5c06f8d3c1c18e14539c16088e21</th>\n",
       "      <td>15.0</td>\n",
       "      <td>356.0</td>\n",
       "      <td>370.0</td>\n",
       "      <td>172.528000</td>\n",
       "      <td>10.432522</td>\n",
       "    </tr>\n",
       "    <tr>\n",
       "      <th>80ed49605a244a6b8df7a0185125075d</th>\n",
       "      <td>12.0</td>\n",
       "      <td>265.0</td>\n",
       "      <td>276.0</td>\n",
       "      <td>257.670833</td>\n",
       "      <td>10.345183</td>\n",
       "    </tr>\n",
       "    <tr>\n",
       "      <th>d0ad6b624dfc37784a755144be8c76a6</th>\n",
       "      <td>14.0</td>\n",
       "      <td>333.0</td>\n",
       "      <td>344.0</td>\n",
       "      <td>159.585714</td>\n",
       "      <td>10.330117</td>\n",
       "    </tr>\n",
       "    <tr>\n",
       "      <th>d88c16f53bf1f538e5dad005530611a9</th>\n",
       "      <td>10.0</td>\n",
       "      <td>200.0</td>\n",
       "      <td>211.0</td>\n",
       "      <td>161.212000</td>\n",
       "      <td>10.302920</td>\n",
       "    </tr>\n",
       "    <tr>\n",
       "      <th>bcf0ea738c6bb798b7d05f2603f8fccf</th>\n",
       "      <td>15.0</td>\n",
       "      <td>332.0</td>\n",
       "      <td>359.0</td>\n",
       "      <td>174.236000</td>\n",
       "      <td>10.298985</td>\n",
       "    </tr>\n",
       "    <tr>\n",
       "      <th>47810b7c7fc24d3cf8287d03de62448b</th>\n",
       "      <td>14.0</td>\n",
       "      <td>342.0</td>\n",
       "      <td>349.0</td>\n",
       "      <td>86.411429</td>\n",
       "      <td>10.293808</td>\n",
       "    </tr>\n",
       "    <tr>\n",
       "      <th>b32f83615c36a983c147d57d68f20804</th>\n",
       "      <td>13.0</td>\n",
       "      <td>301.0</td>\n",
       "      <td>312.0</td>\n",
       "      <td>228.648462</td>\n",
       "      <td>10.288978</td>\n",
       "    </tr>\n",
       "    <tr>\n",
       "      <th>25e5fe3494dcb7d0de25fcd6f6b499d9</th>\n",
       "      <td>15.0</td>\n",
       "      <td>344.0</td>\n",
       "      <td>367.0</td>\n",
       "      <td>348.744667</td>\n",
       "      <td>10.272880</td>\n",
       "    </tr>\n",
       "    <tr>\n",
       "      <th>51ff794d843ce28fb7ca8885094979a7</th>\n",
       "      <td>6.0</td>\n",
       "      <td>86.0</td>\n",
       "      <td>90.0</td>\n",
       "      <td>470.406667</td>\n",
       "      <td>10.212280</td>\n",
       "    </tr>\n",
       "    <tr>\n",
       "      <th>326ede7ae03f35a1c596fd5e9029586f</th>\n",
       "      <td>10.0</td>\n",
       "      <td>153.0</td>\n",
       "      <td>183.0</td>\n",
       "      <td>78.785000</td>\n",
       "      <td>10.178572</td>\n",
       "    </tr>\n",
       "    <tr>\n",
       "      <th>52558a8c536649d21e274da275ce1c8e</th>\n",
       "      <td>13.0</td>\n",
       "      <td>297.0</td>\n",
       "      <td>313.0</td>\n",
       "      <td>363.427692</td>\n",
       "      <td>10.154167</td>\n",
       "    </tr>\n",
       "    <tr>\n",
       "      <th>51b3b64735d01118ff09427f8082277a</th>\n",
       "      <td>11.0</td>\n",
       "      <td>234.0</td>\n",
       "      <td>248.0</td>\n",
       "      <td>421.067273</td>\n",
       "      <td>10.123290</td>\n",
       "    </tr>\n",
       "    <tr>\n",
       "      <th>9459310958c7741a71359ef3a151b9ed</th>\n",
       "      <td>9.0</td>\n",
       "      <td>180.0</td>\n",
       "      <td>187.0</td>\n",
       "      <td>193.190000</td>\n",
       "      <td>10.122864</td>\n",
       "    </tr>\n",
       "    <tr>\n",
       "      <th>2da10b67a4882e14d257c728eda763c3</th>\n",
       "      <td>14.0</td>\n",
       "      <td>351.0</td>\n",
       "      <td>358.0</td>\n",
       "      <td>132.799286</td>\n",
       "      <td>10.105805</td>\n",
       "    </tr>\n",
       "    <tr>\n",
       "      <th>0b937997e6f55b43f95a14c1c6fe94e2</th>\n",
       "      <td>14.0</td>\n",
       "      <td>345.0</td>\n",
       "      <td>356.0</td>\n",
       "      <td>457.836429</td>\n",
       "      <td>10.080124</td>\n",
       "    </tr>\n",
       "    <tr>\n",
       "      <th>6116c18166249fed2e39ee8f3a0733cf</th>\n",
       "      <td>11.0</td>\n",
       "      <td>239.0</td>\n",
       "      <td>252.0</td>\n",
       "      <td>156.009091</td>\n",
       "      <td>10.045924</td>\n",
       "    </tr>\n",
       "    <tr>\n",
       "      <th>4278f21f39173ebb616faa118c22384a</th>\n",
       "      <td>11.0</td>\n",
       "      <td>258.0</td>\n",
       "      <td>261.0</td>\n",
       "      <td>361.242727</td>\n",
       "      <td>10.020638</td>\n",
       "    </tr>\n",
       "    <tr>\n",
       "      <th>feeb6791f303fd34059c06d368f218e3</th>\n",
       "      <td>14.0</td>\n",
       "      <td>336.0</td>\n",
       "      <td>354.0</td>\n",
       "      <td>297.294286</td>\n",
       "      <td>9.977734</td>\n",
       "    </tr>\n",
       "    <tr>\n",
       "      <th>052a3c248db5edab01d32871d5acdbfa</th>\n",
       "      <td>14.0</td>\n",
       "      <td>359.0</td>\n",
       "      <td>366.0</td>\n",
       "      <td>223.290714</td>\n",
       "      <td>9.944452</td>\n",
       "    </tr>\n",
       "    <tr>\n",
       "      <th>bcf1f968bf4bf2b9241f77366a4aee86</th>\n",
       "      <td>14.0</td>\n",
       "      <td>360.0</td>\n",
       "      <td>367.0</td>\n",
       "      <td>143.992143</td>\n",
       "      <td>9.924650</td>\n",
       "    </tr>\n",
       "    <tr>\n",
       "      <th>8770527c316c8732cec34377f12e9299</th>\n",
       "      <td>9.0</td>\n",
       "      <td>188.0</td>\n",
       "      <td>195.0</td>\n",
       "      <td>237.654444</td>\n",
       "      <td>9.868919</td>\n",
       "    </tr>\n",
       "    <tr>\n",
       "      <th>ea623f715c09492b8a565e2b8dfff305</th>\n",
       "      <td>14.0</td>\n",
       "      <td>333.0</td>\n",
       "      <td>355.0</td>\n",
       "      <td>156.598571</td>\n",
       "      <td>9.860049</td>\n",
       "    </tr>\n",
       "    <tr>\n",
       "      <th>51bf88a0aaf6da3d94ab246c9c857017</th>\n",
       "      <td>12.0</td>\n",
       "      <td>292.0</td>\n",
       "      <td>300.0</td>\n",
       "      <td>213.387500</td>\n",
       "      <td>9.832376</td>\n",
       "    </tr>\n",
       "    <tr>\n",
       "      <th>e3a48ef6277d4ee1f0dffe0b50cc9a99</th>\n",
       "      <td>15.0</td>\n",
       "      <td>277.0</td>\n",
       "      <td>324.0</td>\n",
       "      <td>168.541333</td>\n",
       "      <td>9.702783</td>\n",
       "    </tr>\n",
       "    <tr>\n",
       "      <th>1b9e438c8d610ee7a495d40c9578b2f1</th>\n",
       "      <td>6.0</td>\n",
       "      <td>78.0</td>\n",
       "      <td>92.0</td>\n",
       "      <td>156.115000</td>\n",
       "      <td>9.683475</td>\n",
       "    </tr>\n",
       "  </tbody>\n",
       "</table>\n",
       "<p>100 rows × 5 columns</p>\n",
       "</div>"
      ],
      "text/plain": [
       "                                  frequency  recency      T  monetary_value  \\\n",
       "CustomerID                                                                    \n",
       "a5fadc51b1ae844ad9a70ad3cfa46a64       95.0    371.0  371.0      433.962632   \n",
       "48a503edbaded96a3be27deee11967a1       46.0    363.0  371.0      220.476739   \n",
       "9f447f9415a380ac2eeee7df49c6ee7e       23.0    163.0  166.0      110.196522   \n",
       "5f01420f0edda6555df5ce1cc62b986c       39.0    350.0  370.0      299.122821   \n",
       "8d2ce54737dd404d20cadf1405d46dc8       33.0    360.0  362.0      123.195152   \n",
       "3b11478939967e896ae2619615650f97       20.0    190.0  194.0       58.866000   \n",
       "a62a17bb46864da2c6da691d838971b3       30.0    366.0  366.0      307.961000   \n",
       "2ad9a83ee23110d8c2f4c01600b94f20       29.0    357.0  364.0      146.420690   \n",
       "75fda9ea22086bf3814ff8c3f53de8ca       28.0    348.0  355.0      196.032857   \n",
       "30aa99d3357244cf38ca04eadef1473a       18.0    183.0  189.0      345.937222   \n",
       "a719d6643a7832535de9aded2f467825       26.0    360.0  368.0      398.917692   \n",
       "5ac5ed64cd99ed2a8403b7a927e644ef       23.0    222.0  250.0      627.439565   \n",
       "ca2202a96c2de6ca6b8a37a4a73fa730        7.0     12.0   20.0     1399.634286   \n",
       "a1c8d419a97af1f7152e21c0dddfcbce       24.0    369.0  370.0      143.857500   \n",
       "cdf642859ae8d9a1e489c3a655cba827       23.0    343.0  350.0      102.718696   \n",
       "ed2b4332b3ca253cfbb0ffb54d3f5ae0       23.0    337.0  348.0      434.835217   \n",
       "880474a82e33389ae7f377b2ea35bbdd       23.0    364.0  371.0      297.743478   \n",
       "f6a4f156c817ecb376d678f2aafdc570       20.0    309.0  316.0      151.828500   \n",
       "16134915d822fe17588ae585935e1e81       22.0    356.0  362.0      207.839091   \n",
       "e675875db3648ab4dbbd52768296425c       12.0    145.0  152.0      193.650833   \n",
       "742d5a52d4df7cb14246d7f390de5d8a       21.0    340.0  356.0      505.611905   \n",
       "663b3df249f614305792ec7bf1dead30       20.0    347.0  352.0      165.078000   \n",
       "ca5cc4f526fcff10e85ce2685999e2c1        9.0     84.0   92.0      143.516667   \n",
       "bb5d927e9f1aefa4db1881579e055a3e       20.0    348.0  355.0      132.566000   \n",
       "61d2370d7ccfe63adf6ab388d7415dc2       19.0    340.0  342.0      182.188421   \n",
       "9cb19c3fc7311aae01cf16571b528001       17.0    263.0  279.0      500.589412   \n",
       "4f672b7c5d7a4214b08ec6906163c980       14.0    208.0  216.0      392.259286   \n",
       "2b75f007b50d6b21e1501f47dc8d632b       19.0    355.0  355.0      453.049474   \n",
       "cd1751286a561d51655ee47246b3019d       19.0    351.0  355.0      163.781579   \n",
       "7108b2bb5964a79ee1e6c8a9acde8107       16.0    272.0  279.0      190.354375   \n",
       "...                                     ...      ...    ...             ...   \n",
       "22101eef0531a7087dc997fac3d6a7c5       12.0    260.0  267.0      286.163333   \n",
       "cff00f3b67e59b8c9a89972c6cbdabf5       15.0    354.0  365.0      326.335333   \n",
       "c505f6e87ff9782ba4ca791ae088f329       14.0    330.0  337.0       78.340714   \n",
       "1200a4df001756f0fc97e0142c069442       11.0    231.0  239.0      495.582727   \n",
       "14f57af72e3d2a16b7b4c088cbe3196f       14.0    334.0  341.0      244.337143   \n",
       "13cb5c06f8d3c1c18e14539c16088e21       15.0    356.0  370.0      172.528000   \n",
       "80ed49605a244a6b8df7a0185125075d       12.0    265.0  276.0      257.670833   \n",
       "d0ad6b624dfc37784a755144be8c76a6       14.0    333.0  344.0      159.585714   \n",
       "d88c16f53bf1f538e5dad005530611a9       10.0    200.0  211.0      161.212000   \n",
       "bcf0ea738c6bb798b7d05f2603f8fccf       15.0    332.0  359.0      174.236000   \n",
       "47810b7c7fc24d3cf8287d03de62448b       14.0    342.0  349.0       86.411429   \n",
       "b32f83615c36a983c147d57d68f20804       13.0    301.0  312.0      228.648462   \n",
       "25e5fe3494dcb7d0de25fcd6f6b499d9       15.0    344.0  367.0      348.744667   \n",
       "51ff794d843ce28fb7ca8885094979a7        6.0     86.0   90.0      470.406667   \n",
       "326ede7ae03f35a1c596fd5e9029586f       10.0    153.0  183.0       78.785000   \n",
       "52558a8c536649d21e274da275ce1c8e       13.0    297.0  313.0      363.427692   \n",
       "51b3b64735d01118ff09427f8082277a       11.0    234.0  248.0      421.067273   \n",
       "9459310958c7741a71359ef3a151b9ed        9.0    180.0  187.0      193.190000   \n",
       "2da10b67a4882e14d257c728eda763c3       14.0    351.0  358.0      132.799286   \n",
       "0b937997e6f55b43f95a14c1c6fe94e2       14.0    345.0  356.0      457.836429   \n",
       "6116c18166249fed2e39ee8f3a0733cf       11.0    239.0  252.0      156.009091   \n",
       "4278f21f39173ebb616faa118c22384a       11.0    258.0  261.0      361.242727   \n",
       "feeb6791f303fd34059c06d368f218e3       14.0    336.0  354.0      297.294286   \n",
       "052a3c248db5edab01d32871d5acdbfa       14.0    359.0  366.0      223.290714   \n",
       "bcf1f968bf4bf2b9241f77366a4aee86       14.0    360.0  367.0      143.992143   \n",
       "8770527c316c8732cec34377f12e9299        9.0    188.0  195.0      237.654444   \n",
       "ea623f715c09492b8a565e2b8dfff305       14.0    333.0  355.0      156.598571   \n",
       "51bf88a0aaf6da3d94ab246c9c857017       12.0    292.0  300.0      213.387500   \n",
       "e3a48ef6277d4ee1f0dffe0b50cc9a99       15.0    277.0  324.0      168.541333   \n",
       "1b9e438c8d610ee7a495d40c9578b2f1        6.0     78.0   92.0      156.115000   \n",
       "\n",
       "                                  predicted_purchases  \n",
       "CustomerID                                             \n",
       "a5fadc51b1ae844ad9a70ad3cfa46a64            66.715396  \n",
       "48a503edbaded96a3be27deee11967a1            31.845175  \n",
       "9f447f9415a380ac2eeee7df49c6ee7e            27.442656  \n",
       "5f01420f0edda6555df5ce1cc62b986c            25.572084  \n",
       "8d2ce54737dd404d20cadf1405d46dc8            23.607814  \n",
       "3b11478939967e896ae2619615650f97            21.746411  \n",
       "a62a17bb46864da2c6da691d838971b3            21.359421  \n",
       "2ad9a83ee23110d8c2f4c01600b94f20            20.500784  \n",
       "75fda9ea22086bf3814ff8c3f53de8ca            20.160264  \n",
       "30aa99d3357244cf38ca04eadef1473a            19.799037  \n",
       "a719d6643a7832535de9aded2f467825            18.218952  \n",
       "5ac5ed64cd99ed2a8403b7a927e644ef            18.133983  \n",
       "ca2202a96c2de6ca6b8a37a4a73fa730            17.685990  \n",
       "a1c8d419a97af1f7152e21c0dddfcbce            16.954758  \n",
       "cdf642859ae8d9a1e489c3a655cba827            16.764294  \n",
       "ed2b4332b3ca253cfbb0ffb54d3f5ae0            16.687202  \n",
       "880474a82e33389ae7f377b2ea35bbdd            16.073954  \n",
       "f6a4f156c817ecb376d678f2aafdc570            15.697427  \n",
       "16134915d822fe17588ae585935e1e81            15.686363  \n",
       "e675875db3648ab4dbbd52768296425c            15.061660  \n",
       "742d5a52d4df7cb14246d7f390de5d8a            14.824970  \n",
       "663b3df249f614305792ec7bf1dead30            14.591371  \n",
       "ca5cc4f526fcff10e85ce2685999e2c1            14.581592  \n",
       "bb5d927e9f1aefa4db1881579e055a3e            14.453281  \n",
       "61d2370d7ccfe63adf6ab388d7415dc2            14.225532  \n",
       "9cb19c3fc7311aae01cf16571b528001            14.209909  \n",
       "4f672b7c5d7a4214b08ec6906163c980            14.191349  \n",
       "2b75f007b50d6b21e1501f47dc8d632b            13.881519  \n",
       "cd1751286a561d51655ee47246b3019d            13.805947  \n",
       "7108b2bb5964a79ee1e6c8a9acde8107            13.727760  \n",
       "...                                               ...  \n",
       "22101eef0531a7087dc997fac3d6a7c5            10.666687  \n",
       "cff00f3b67e59b8c9a89972c6cbdabf5            10.594416  \n",
       "c505f6e87ff9782ba4ca791ae088f329            10.555828  \n",
       "1200a4df001756f0fc97e0142c069442            10.520899  \n",
       "14f57af72e3d2a16b7b4c088cbe3196f            10.466994  \n",
       "13cb5c06f8d3c1c18e14539c16088e21            10.432522  \n",
       "80ed49605a244a6b8df7a0185125075d            10.345183  \n",
       "d0ad6b624dfc37784a755144be8c76a6            10.330117  \n",
       "d88c16f53bf1f538e5dad005530611a9            10.302920  \n",
       "bcf0ea738c6bb798b7d05f2603f8fccf            10.298985  \n",
       "47810b7c7fc24d3cf8287d03de62448b            10.293808  \n",
       "b32f83615c36a983c147d57d68f20804            10.288978  \n",
       "25e5fe3494dcb7d0de25fcd6f6b499d9            10.272880  \n",
       "51ff794d843ce28fb7ca8885094979a7            10.212280  \n",
       "326ede7ae03f35a1c596fd5e9029586f            10.178572  \n",
       "52558a8c536649d21e274da275ce1c8e            10.154167  \n",
       "51b3b64735d01118ff09427f8082277a            10.123290  \n",
       "9459310958c7741a71359ef3a151b9ed            10.122864  \n",
       "2da10b67a4882e14d257c728eda763c3            10.105805  \n",
       "0b937997e6f55b43f95a14c1c6fe94e2            10.080124  \n",
       "6116c18166249fed2e39ee8f3a0733cf            10.045924  \n",
       "4278f21f39173ebb616faa118c22384a            10.020638  \n",
       "feeb6791f303fd34059c06d368f218e3             9.977734  \n",
       "052a3c248db5edab01d32871d5acdbfa             9.944452  \n",
       "bcf1f968bf4bf2b9241f77366a4aee86             9.924650  \n",
       "8770527c316c8732cec34377f12e9299             9.868919  \n",
       "ea623f715c09492b8a565e2b8dfff305             9.860049  \n",
       "51bf88a0aaf6da3d94ab246c9c857017             9.832376  \n",
       "e3a48ef6277d4ee1f0dffe0b50cc9a99             9.702783  \n",
       "1b9e438c8d610ee7a495d40c9578b2f1             9.683475  \n",
       "\n",
       "[100 rows x 5 columns]"
      ]
     },
     "execution_count": 8,
     "metadata": {},
     "output_type": "execute_result"
    }
   ],
   "source": [
    "summary_with_money_value.sort_values(by='predicted_purchases', ascending=False).head(100)"
   ]
  },
  {
   "cell_type": "code",
   "execution_count": 9,
   "metadata": {},
   "outputs": [
    {
     "name": "stdout",
     "output_type": "stream",
     "text": [
      "<lifetimes.GammaGammaFitter: fitted with 9647 subjects, p: 4.57, q: 3.65, v: 135.88>\n"
     ]
    }
   ],
   "source": [
    "# Use gamma-gamma model to predict expected average lifetime value of the customers\n",
    "from lifetimes import GammaGammaFitter\n",
    "\n",
    "# find out returning customers\n",
    "returning_customers_summary = summary_with_money_value[summary_with_money_value['frequency']>0]\n",
    "\n",
    "# fit to model\n",
    "ggf = GammaGammaFitter(penalizer_coef = 0)\n",
    "ggf.fit(returning_customers_summary['frequency'],\n",
    "        returning_customers_summary['monetary_value'])\n",
    "print(ggf)"
   ]
  },
  {
   "cell_type": "code",
   "execution_count": 10,
   "metadata": {},
   "outputs": [],
   "source": [
    "# expected averge transaction value by customer\n",
    "expected_average_profit_by_customer = ggf.conditional_expected_average_profit(\n",
    "                   summary_with_money_value['frequency'],\n",
    "                   summary_with_money_value['monetary_value'])"
   ]
  },
  {
   "cell_type": "markdown",
   "metadata": {},
   "source": [
    "### 3. List the 100 customers predicted to spend the most over the next 12 months"
   ]
  },
  {
   "cell_type": "markdown",
   "metadata": {},
   "source": [
    "It is calculated by multiplying the predicted number of purchases (using BG model) by the expected average transaction value (using gamma-gamma model) for each customer."
   ]
  },
  {
   "cell_type": "code",
   "execution_count": 11,
   "metadata": {},
   "outputs": [
    {
     "data": {
      "text/plain": [
       "CustomerID\n",
       "a5fadc51b1ae844ad9a70ad3cfa46a64    28871.159253\n",
       "ca2202a96c2de6ca6b8a37a4a73fa730    23176.978374\n",
       "dca76db00cc59dfbcdcc97c8bbc7f9f1    12151.778376\n",
       "5ac5ed64cd99ed2a8403b7a927e644ef    11202.629089\n",
       "60c19a709e3ced2d16d7100eb1069df5     9900.182974\n",
       "98f8e41f45721cbe49a3147f6cf62432     7891.914295\n",
       "a92534133444b5028d12a129b1b128f7     7837.232927\n",
       "5f01420f0edda6555df5ce1cc62b986c     7624.901739\n",
       "742d5a52d4df7cb14246d7f390de5d8a     7387.582073\n",
       "a719d6643a7832535de9aded2f467825     7202.419414\n",
       "ed2b4332b3ca253cfbb0ffb54d3f5ae0     7173.874629\n",
       "089ecc49200cfe79584d0bec2a3cf8c0     7167.398626\n",
       "eba458987dc67827871c1d4d92e646e1     7149.671128\n",
       "922bdaa119d44065b17b0447255646ae     7106.939613\n",
       "24f05bfab01fef56ec049a828ebe20ab     7038.977830\n",
       "48a503edbaded96a3be27deee11967a1     7026.598648\n",
       "9cb19c3fc7311aae01cf16571b528001     6988.494350\n",
       "30aa99d3357244cf38ca04eadef1473a     6780.226165\n",
       "66162981fc95e268e45bbfc738059687     6760.872006\n",
       "a62a17bb46864da2c6da691d838971b3     6548.026635\n",
       "cd4cb9ec252a085ed4d2d3af7c18280a     6463.915121\n",
       "2b75f007b50d6b21e1501f47dc8d632b     6199.068227\n",
       "f09ff1c6c4ac8ea95d8621a94bb325fd     6040.257454\n",
       "ede2a476c3894cf65d1619987d148422     5945.143859\n",
       "42059a7ede026d409ff0f255635d7a08     5887.899897\n",
       "f11a653807d6bde53e4757f53e098c96     5535.915074\n",
       "4f672b7c5d7a4214b08ec6906163c980     5477.515805\n",
       "ca84dc4660f651a11a82041300367fae     5431.763484\n",
       "2f486887c2edb2571d32c8cd15301711     5255.091242\n",
       "1200a4df001756f0fc97e0142c069442     5076.297134\n",
       "                                        ...     \n",
       "40f76eef131511bd16aaa2ff6e8ed2c6     3603.759542\n",
       "e0d591d2bbc656a278b5675d9bcae6c3     3565.609515\n",
       "e4d423cc47a17c9ca7cea0c12e8e22be     3556.925021\n",
       "4278f21f39173ebb616faa118c22384a     3556.170819\n",
       "25e5fe3494dcb7d0de25fcd6f6b499d9     3538.844986\n",
       "f2114d783824ed6c7c2658be58579e3e     3535.111968\n",
       "547bfa0c00ff82eb6f62d7a2b2cf4be7     3521.044768\n",
       "2143bad4fa8805114a00a73853ac6ace     3518.352339\n",
       "b783899d4ba9b328769e55d592fa8deb     3515.937628\n",
       "fc837095bb2d1f732cba3e195d9abe6e     3515.312622\n",
       "6dce8b4af8ca65025bc7f84457ae13a1     3503.952595\n",
       "a8c6dd0d4f1b33878dfc2f3559e88f87     3502.569367\n",
       "607b2c3d2eb689b96ebf551fe735e203     3487.185365\n",
       "cda380d6b9e87ecf02a85e994622131c     3486.364292\n",
       "af77cebc5448b68b026556858d60c8cc     3471.092280\n",
       "323f6b3b7a7b0d114ea4bf79b6014241     3431.880339\n",
       "cff00f3b67e59b8c9a89972c6cbdabf5     3421.033008\n",
       "30e834952ed09e6fdafc0f94b38ce8e4     3401.751521\n",
       "0994482188804e99710b7ee6d6a9e289     3396.871783\n",
       "5eb940151492ace9a73fe3567d8fb7e6     3395.058067\n",
       "ffe8da9e101a7d6c33b8c3be8eb705bc     3388.530151\n",
       "0a5189aef3c8cc9a0c3d37379dd6ca1d     3386.224543\n",
       "888854e2551d1c54869ba39ba326fe76     3383.651486\n",
       "d80a3467a4f6fa760b9b1d2769f03295     3368.134209\n",
       "bfd2558c6ca88693b5721952422b5b40     3362.777434\n",
       "32df931a012f04da70265457d43e7da2     3345.376324\n",
       "ef1abbd1fa704b52a24dde18604ebca0     3333.881797\n",
       "2e80c8b5d073f8310276f3ddfa2a1130     3325.734190\n",
       "6061e84cb60705e4a2a378538353ba4d     3318.958258\n",
       "35bd91d013d04ffe65a66c2864be2c63     3312.521206\n",
       "Length: 100, dtype: float64"
      ]
     },
     "execution_count": 11,
     "metadata": {},
     "output_type": "execute_result"
    }
   ],
   "source": [
    "expected_average_profit_by_customer.multiply(\n",
    "    summary_with_money_value['predicted_purchases']).sort_values(ascending = False).head(100)"
   ]
  },
  {
   "cell_type": "markdown",
   "metadata": {},
   "source": [
    "### 4. Explain the statistical assumptions that the model makes. Do you think those assumptions are valid for a model of a customer buying widgets from an ecommerce store?"
   ]
  },
  {
   "cell_type": "markdown",
   "metadata": {},
   "source": [
    "The Beta-Geometric model makes 5 assumptions (as discussed in the paper by Fader and Hardie): \n",
    "1. The number of transactions made by a customer follows a Poisson process. \n",
    "2. Heterogeneity in lambda follows a gamma distribution. \n",
    "3. A customer becomes inactive after any transaction with a probability p. \n",
    "4. Heterogeneity in p follows a beta distribution. \n",
    "5. The transaction rate lambda and dropout probability p vary independently across customers.\n",
    "\n",
    "As a model of a customer buying widgets from an ecommerce store:\n",
    "\n",
    "First of all, I think 2 and 4 are valid assumptions because there will be some heterogeneity among customers and both Gamma and Beta functions are flexible functions that are capable of fitting a variety of distribution shapes.\n",
    "\n",
    "Assumption 1 is not entirely accurate. In the plot below, we can see a clear increase in the number of transactions during the holiday season. It is also possible that the smaller peaks are correlated with events such as the releases of new devices. The transaction rate is at least somewhat time dependent.\n",
    "\n",
    "Assumption 3 is reasonable, although it is not accurate in predicting behaviors on a longer time scale. There is more explanation in my answer to question 6.\n",
    "\n",
    "Assumption 5 is probably valid, but I can also imagine a negative correlation between the lambda and p for a customer: a customer that makes frequent purchases is less likely to drop out."
   ]
  },
  {
   "cell_type": "code",
   "execution_count": 12,
   "metadata": {},
   "outputs": [
    {
     "data": {
      "text/plain": [
       "Text(0,0.5,'number of transactions')"
      ]
     },
     "execution_count": 12,
     "metadata": {},
     "output_type": "execute_result"
    },
    {
     "data": {
      "image/png": "[encoded data removed]",
      "text/plain": [
       "<matplotlib.figure.Figure at 0x197fec5eb70>"
      ]
     },
     "metadata": {
      "needs_background": "light"
     },
     "output_type": "display_data"
    }
   ],
   "source": [
    "# plot the number of purchases vs time\n",
    "transaction_data['CustomerID'].groupby([transaction_data['Timestamp'].dt.year, \n",
    "                          transaction_data['Timestamp'].dt.week]).count().plot(kind=\"line\")\n",
    "plt.xlabel('time (year, week)')\n",
    "plt.ylabel('number of transactions')"
   ]
  },
  {
   "cell_type": "markdown",
   "metadata": {},
   "source": [
    "The Gamma-Gamma model makes the assumption that the monetary value of a transaction is independent of the purchase frequency of a customer, which is roughly true. Even though the distribution of transaction values is wider at low frequency, the mean transaction value remains constant across different frequencies (see the two plots below)."
   ]
  },
  {
   "cell_type": "code",
   "execution_count": 13,
   "metadata": {},
   "outputs": [
    {
     "data": {
      "text/plain": [
       "Text(0,0.5,'average purchase value (per customer)')"
      ]
     },
     "execution_count": 13,
     "metadata": {},
     "output_type": "execute_result"
    },
    {
     "data": {
      "image/png": "[encoded data removed]",
      "text/plain": [
       "<matplotlib.figure.Figure at 0x197fed73630>"
      ]
     },
     "metadata": {
      "needs_background": "light"
     },
     "output_type": "display_data"
    }
   ],
   "source": [
    "# plot the relationship between monetary value and purchase frequency\n",
    "summary_outliers_removed = summary_with_money_value[(summary_with_money_value['frequency']<40) &\n",
    "                                                    (summary_with_money_value['frequency']>0) &\n",
    "                                                    (summary_with_money_value['monetary_value']<2000)]\n",
    "\n",
    "plt.scatter(\n",
    "    summary_outliers_removed['frequency'], summary_outliers_removed['monetary_value'])\n",
    "plt.xlabel('frequency')\n",
    "plt.ylabel('average purchase value (per customer)')"
   ]
  },
  {
   "cell_type": "code",
   "execution_count": 25,
   "metadata": {},
   "outputs": [
    {
     "data": {
      "text/plain": [
       "Text(0,0.5,'average purchase value (all customers)')"
      ]
     },
     "execution_count": 25,
     "metadata": {},
     "output_type": "execute_result"
    },
    {
     "data": {
      "image/png": "[encoded data removed]",
      "text/plain": [
       "<matplotlib.figure.Figure at 0x19781177a58>"
      ]
     },
     "metadata": {
      "needs_background": "light"
     },
     "output_type": "display_data"
    }
   ],
   "source": [
    "plt.plot(summary_outliers_removed.groupby(['frequency']).mean()['monetary_value'])\n",
    "plt.xlabel('frequency')\n",
    "plt.ylabel('average purchase value (all customers)')"
   ]
  },
  {
   "cell_type": "markdown",
   "metadata": {},
   "source": [
    "### 5. Write a simulation that shows how many customers are alive after 10 days, 1 year, 10 years and 100 years and how many purchases they have made in that time using the modified BG model."
   ]
  },
  {
   "cell_type": "markdown",
   "metadata": {},
   "source": [
    "I approach this problem by dividing the future into discrete, short periods of time (1 day). The status of the customers is updated after each period. The prediction of customer behavior in the future is then simulation by iteration."
   ]
  },
  {
   "cell_type": "code",
   "execution_count": 15,
   "metadata": {},
   "outputs": [],
   "source": [
    "def simulate_customer_status(sample_customers, ndays):\n",
    "\n",
    "    customers_alive = sample_customers.copy()\n",
    "    customers_dead = pd.DataFrame(columns=customers_alive.columns)\n",
    "\n",
    "    for _ in range(ndays):\n",
    "\n",
    "        # calculate the probability of a customer making 1 purchase within a day\n",
    "        \n",
    "        # here I made two assumptions:\n",
    "        # 1. each customer can make either 0 or 1 purchase on a given day\n",
    "        # 2. the probability of a customer making 1 purchase equals\n",
    "        # the expected number of puchases during the same period of time\n",
    "        # These should be resonable approximations because the purchasing behavior is a Poisson process \n",
    "        # with a very small lambda\n",
    "        \n",
    "        t = 1   # one day\n",
    "        predicted_purchases = bgf.conditional_expected_number_of_purchases_up_to_time(t, \n",
    "                                                        customers_alive['frequency'],\n",
    "                                                        customers_alive['recency'], \n",
    "                                                        customers_alive['T'])\n",
    "\n",
    "        # the age of all customers grows by 1\n",
    "        customers_alive['T'] += 1\n",
    "\n",
    "        # use a random number generator to simulate whether a new purchase happens\n",
    "        has_new_purchase = np.random.rand(customers_alive.shape[0]) < predicted_purchases\n",
    "        customers_alive.loc[has_new_purchase,'frequency'] += 1\n",
    "        customers_alive.loc[has_new_purchase,'recency'] = customers_alive.loc[has_new_purchase,'T']\n",
    "        customers_alive.loc[has_new_purchase,'num_purchases'] += 1\n",
    "\n",
    "        # I calculate the conditional probability a customer being alive after each purchase \n",
    "        # and use a random number to simulate whether a customer survives this purchase\n",
    "        customers_purchased = customers_alive[has_new_purchase]\n",
    "        chance_survival = bgf.conditional_probability_alive(customers_purchased['frequency'],\n",
    "                                          customers_purchased['recency'], \n",
    "                                          customers_purchased['T'])\n",
    "        dead = customers_purchased.loc[np.random.rand(customers_purchased.shape[0]) > \\\n",
    "                                       chance_survival, :]\n",
    "\n",
    "        if not dead.empty:\n",
    "            # add dead customers to customers_dead\n",
    "            customers_dead = customers_dead.append(dead, ignore_index=False)\n",
    "            # remove dead customers from customers_alive\n",
    "            customers_alive.drop(list(dead.index.values), inplace=True)\n",
    "\n",
    "    # number of purchases\n",
    "    num_purchases = customers_alive['num_purchases'].sum() + customers_dead['num_purchases'].sum()\n",
    "    # number of customers that are alive after ndays\n",
    "    num_customers_alive = customers_alive.shape[0]\n",
    "\n",
    "    return customers_alive, customers_dead, num_purchases, num_customers_alive"
   ]
  },
  {
   "cell_type": "markdown",
   "metadata": {},
   "source": [
    "Simulate how many customers are alive after 10 days, 1 year, 10 years and 100 years and how many purchases they have made in that time. Note that these are independent experiments: the simulation for 100 years is not a continuation of the simulation for 10 years, even though they used the same samples."
   ]
  },
  {
   "cell_type": "code",
   "execution_count": 16,
   "metadata": {},
   "outputs": [],
   "source": [
    "# select 100 random customers for simulation\n",
    "sample_customers = summary_with_money_value.drop(\n",
    "    ['monetary_value', 'predicted_purchases'],axis=1).sample(n=100)\n",
    "sample_customers['num_purchases'] = 0\n",
    "customers_alive_10d, customers_dead_10d, num_purchases_10d, num_customers_alive_10d = simulate_customer_status(\n",
    "    sample_customers, 10)    \n",
    "customers_alive_1y, customers_dead_1y, num_purchases_1y, num_customers_alive_1y = simulate_customer_status(\n",
    "    sample_customers, 365)\n",
    "customers_alive_10y, customers_dead_10y, num_purchases_10y, num_customers_alive_10y = simulate_customer_status(\n",
    "    sample_customers, 3650)\n",
    "customers_alive_100y, customers_dead_100y, num_purchases_100y, num_customers_alive_100y = simulate_customer_status(\n",
    "    sample_customers, 36500)"
   ]
  },
  {
   "cell_type": "code",
   "execution_count": 17,
   "metadata": {},
   "outputs": [
    {
     "name": "stdout",
     "output_type": "stream",
     "text": [
      "In 10 days,   the customers have made 5 purchases.  99 customers are alive.\n",
      "In 1 year,    the customers have made 122 purchases.  91 customers are alive.\n",
      "In 10 years,  the customers have made 391 purchases. 69 customers are alive.\n",
      "In 100 years, the customers have made 633 purchases. 57 customers are alive.\n"
     ]
    }
   ],
   "source": [
    "# result\n",
    "print(f'In 10 days,   the customers have made {num_purchases_10d} purchases.  {num_customers_alive_10d} customers are alive.')\n",
    "print(f'In 1 year,    the customers have made {num_purchases_1y} purchases.  {num_customers_alive_1y} customers are alive.')\n",
    "print(f'In 10 years,  the customers have made {num_purchases_10y} purchases. {num_customers_alive_10y} customers are alive.')\n",
    "print(f'In 100 years, the customers have made {num_purchases_100y} purchases. {num_customers_alive_100y} customers are alive.')"
   ]
  },
  {
   "cell_type": "markdown",
   "metadata": {},
   "source": [
    "Note that the numbers of customers alive shown above are the number of customers that are classified as alive according to the model. The expected numbers of customers alive are calculated as follows:"
   ]
  },
  {
   "cell_type": "code",
   "execution_count": 18,
   "metadata": {},
   "outputs": [
    {
     "name": "stdout",
     "output_type": "stream",
     "text": [
      "In 10 days,   the expected number of customers alive is 88.42829757557539\n",
      "In 1 year,    the expected number of customers alive is 68.91310429919817\n",
      "In 10 years,  the expected number of customers alive is 39.47605787372948\n",
      "In 100 years, the expected number of customers alive is 18.08586940369754\n"
     ]
    }
   ],
   "source": [
    "def calc_expected_num_alive(customers_alive):\n",
    "    return bgf.conditional_probability_alive(customers_alive['frequency'],\n",
    "                              customers_alive['recency'], \n",
    "                              customers_alive['T']).sum()\n",
    "\n",
    "print(f'In 10 days,   the expected number of customers alive is {calc_expected_num_alive(customers_alive_10d)}')\n",
    "print(f'In 1 year,    the expected number of customers alive is {calc_expected_num_alive(customers_alive_1y)}')\n",
    "print(f'In 10 years,  the expected number of customers alive is {calc_expected_num_alive(customers_alive_10y)}')\n",
    "print(f'In 100 years, the expected number of customers alive is {calc_expected_num_alive(customers_alive_100y)}')"
   ]
  },
  {
   "cell_type": "markdown",
   "metadata": {},
   "source": [
    "I tested the consistency of the simulation and compared the estimated number of purchases yielded in the simulation with the results from built-in function in the toolbox."
   ]
  },
  {
   "cell_type": "code",
   "execution_count": 19,
   "metadata": {},
   "outputs": [],
   "source": [
    "# run the 1-year simulation 50 times to test the consistency of simulation results\n",
    "num_alive = []\n",
    "num_purchases = []\n",
    "for _ in range(50):\n",
    "    # select 100 random customers for simulation\n",
    "    sample_customers = summary_with_money_value.drop(\n",
    "        ['monetary_value', 'predicted_purchases'],axis=1).sample(n=100)\n",
    "    sample_customers['num_purchases'] = 0\n",
    "        \n",
    "    _, _, num_purchases_1y, num_customers_alive_1y = simulate_customer_status(\n",
    "        sample_customers, 365)\n",
    "\n",
    "    num_alive.append(num_customers_alive_1y)\n",
    "    num_purchases.append(num_purchases_1y)"
   ]
  },
  {
   "cell_type": "code",
   "execution_count": 20,
   "metadata": {},
   "outputs": [
    {
     "data": {
      "text/plain": [
       "Text(0.5,1,'results from 50 runs of simulation')"
      ]
     },
     "execution_count": 20,
     "metadata": {},
     "output_type": "execute_result"
    },
    {
     "data": {
      "image/png": "[encoded data removed]",
      "text/plain": [
       "<matplotlib.figure.Figure at 0x197fec62f98>"
      ]
     },
     "metadata": {
      "needs_background": "light"
     },
     "output_type": "display_data"
    }
   ],
   "source": [
    "plt.plot(num_alive, num_purchases,'.')\n",
    "plt.xlabel('number of customers alive after 1 year')\n",
    "plt.ylabel('number of purchases in 1 year')\n",
    "plt.title('results from 50 runs of simulation')"
   ]
  },
  {
   "cell_type": "code",
   "execution_count": 21,
   "metadata": {},
   "outputs": [
    {
     "name": "stdout",
     "output_type": "stream",
     "text": [
      "Average number of purchases in 1 year calculated by simulation: \n",
      "     112.5 +/- 3.673390804148124\n",
      "Average number of purchases calculated with the function in toolbox: \n",
      "     132.749723136137 +/- 2.224596192118256\n"
     ]
    }
   ],
   "source": [
    "# Predict expected number of purchases in 1 year using a built-in function in the toolbox\n",
    "num_purchases_method2 = []\n",
    "for _ in range(50):\n",
    "    # select 100 random customers for simulation\n",
    "    sample_customers = summary_with_money_value.sample(n=100)\n",
    "    \n",
    "    t = 365\n",
    "    num_purchases_built_in = bgf.conditional_expected_number_of_purchases_up_to_time(t, \n",
    "                                                        sample_customers['frequency'],\n",
    "                                                        sample_customers['recency'], \n",
    "                                                        sample_customers['T'])\n",
    "    num_purchases_method2.append(num_purchases_built_in.sum())\n",
    "    \n",
    "# compare the results from 2 methods\n",
    "print(f'Average number of purchases in 1 year calculated by simulation: \\n \\\n",
    "    {sum(num_purchases)/50} +/- {np.std(num_purchases)/np.sqrt(50)}')\n",
    "print(f'Average number of purchases calculated with the function in toolbox: \\n \\\n",
    "    {sum(num_purchases_method2)/50} +/- {np.std(num_purchases_method2)/np.sqrt(50)}')"
   ]
  },
  {
   "cell_type": "markdown",
   "metadata": {},
   "source": [
    "There is some discrepancy between the predicted number of purchases using the simulation comparing to the result using a built in function in the toolbox, however I did not find the reason."
   ]
  },
  {
   "cell_type": "markdown",
   "metadata": {},
   "source": [
    "### 6.  The model works well in some ways and poorly in others for the data we provide. Explain what it does a well and what it does poorly."
   ]
  },
  {
   "cell_type": "markdown",
   "metadata": {},
   "source": [
    "Things it does well:\n",
    "\n",
    "The model only sees the transaction data of the customers from a short period of time, yet it effectively captures the behavior of the population and can be used to predict the purchase behavior on a much longer time scale.\n",
    "\n",
    "Things it does poorly:\n",
    "\n",
    "According to the model, the number of customers will constantly decrease because there would be no new customers, which is unlikely.\n",
    "\n",
    "The simulation results are not very consistent between runs (see the plot above).\n",
    "\n",
    "The model does not do a good job estimating the number of customers alive on a longer time scale. It assumes a customer can only \"die\" after a purchase. However, for customers that have not made a purchase in very long time, their chance of making a purchase is very low, which also means they have a very small chance of dying. From the 100-year simulation, 57 customers are classified as \"alive\" after 100 years. However, 51 out of the 57 customers have not made a single purchase in the recent 20 years, which means they are effectively dead."
   ]
  },
  {
   "cell_type": "code",
   "execution_count": 22,
   "metadata": {},
   "outputs": [
    {
     "data": {
      "text/plain": [
       "57"
      ]
     },
     "execution_count": 22,
     "metadata": {},
     "output_type": "execute_result"
    }
   ],
   "source": [
    "# number of customers alive after 100 years\n",
    "customers_alive_100y.shape[0]"
   ]
  },
  {
   "cell_type": "code",
   "execution_count": 23,
   "metadata": {},
   "outputs": [
    {
     "data": {
      "text/plain": [
       "51"
      ]
     },
     "execution_count": 23,
     "metadata": {},
     "output_type": "execute_result"
    }
   ],
   "source": [
    "# number of customers alive after 100 years that have not purchased in the recent 20 years\n",
    "customers_alive_100y[customers_alive_100y['recency']<365*80].shape[0]"
   ]
  },
  {
   "cell_type": "markdown",
   "metadata": {},
   "source": [
    "### 7. What are one or two ideas that could address the deficiencies of the model? (No need to implement, just describe.)\n",
    "\n"
   ]
  },
  {
   "cell_type": "markdown",
   "metadata": {},
   "source": [
    "We can add new customers who would make their first purchase to the simulation at a constant rate 'p(new_customer)', which can be estimated using historical data.\n",
    "\n",
    "To enhance the consistency of simulation results, we can (a) run the simulation multiple times and take the average. (b) use a larger sample size. (c) use a different sampling method (for example, group the customers by their purchase frequency and take samples from each bin).\n",
    "\n",
    "We can change the mechanism of dying so it can happen not only right after a purchase, but also when a customer has not purchased in a long time."
   ]
  },
  {
   "cell_type": "markdown",
   "metadata": {},
   "source": [
    "### 8. Suppose the intended use of the modified BG model is binning customers into one of the following categories: highly likely to purchase in the next year, somewhat likely to purchase in the next year, unlikely to purchase in the next year, highly unlikely to purchase in the next year. Suppose you want to compare this model with a model your colleague is proposing. How would you evaluate the two models? Do not implement, but do show a mockup of the results of your evaluation."
   ]
  },
  {
   "cell_type": "markdown",
   "metadata": {},
   "source": [
    "First of all, we should use older data for training and put aside the data from the past year for testing. \n",
    "\n",
    "The model evaluation would be trivial if there are only two categories (likely to purchase and unlikely to purchase). The decision we need to make here is how we should evaluate the somewhat likely and unlikely to purchase categories in the overall cost function. I think we can build a confusion matrix based the performance of the model on the test data, something like this:\n",
    "\n",
    "| | made >=1 purchase | made 0 purchase |\n",
    "| --- | --- | --- |\n",
    "| highly likely | --- | --- |\n",
    "| somewhat likely | --- | --- |\n",
    "| somewhat unlikely | --- | --- |\n",
    "| highly unlikely | --- | --- |\n",
    "\n",
    "We can assign a cost for each cell in the confusion matrix. In general, I think the cost should satisfy the following conditions: a correct prediction for a customer in \"highly likely or unlikely\" categories has the lowest cost, and an incorrect prediction for those categories has the highest cost. Any prediction for a customer in the \"somewhat\" groups should lie in the middle. And then we can evaluate the performance of a model based on its total cost.\n",
    "\n",
    "In practice, we should determine the cost for each situation based on specific business situations. For example, in a situation where labeling a customer as \"somewhat likely or unlikely\" is not very useful for the decision making, we can give higher cost to the instances classified in these two categories regardless of the result. "
   ]
  },
  {
   "cell_type": "code",
   "execution_count": null,
   "metadata": {},
   "outputs": [],
   "source": []
  }
 ],
 "metadata": {
  "kernelspec": {
   "display_name": "Python 3",
   "language": "python",
   "name": "python3"
  },
  "language_info": {
   "codemirror_mode": {
    "name": "ipython",
    "version": 3
   },
   "file_extension": ".py",
   "mimetype": "text/x-python",
   "name": "python",
   "nbconvert_exporter": "python",
   "pygments_lexer": "ipython3",
   "version": "3.7.1"
  }
 },
 "nbformat": 4,
 "nbformat_minor": 2
}
